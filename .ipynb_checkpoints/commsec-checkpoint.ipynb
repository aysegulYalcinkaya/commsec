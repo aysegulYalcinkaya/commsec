{
 "cells": [
  {
   "cell_type": "code",
   "execution_count": null,
   "id": "30c5797f-12dc-4346-aada-f883325f723f",
   "metadata": {},
   "outputs": [],
   "source": [
    "from selenium import webdriver\n",
    "from selenium.webdriver.common.keys import Keys\n",
    "import time\n",
    "from selenium.webdriver.support.ui import WebDriverWait\n",
    "from selenium.webdriver.support import expected_conditions as EC\n",
    "from selenium.webdriver.common.by import By\n",
    "import requests\n",
    "import csv\n",
    "from datetime import date\n",
    "import copy\n",
    "from selenium.webdriver.chrome.options import Options"
   ]
  },
  {
   "cell_type": "code",
   "execution_count": null,
   "id": "46b063f4-2473-41ce-b689-e1bf0b3a9a79",
   "metadata": {},
   "outputs": [],
   "source": [
    "def connect():\n",
    "    import mysql.connector\n",
    "    con = mysql.connector.connect(user='root', password='',\n",
    "                                  host='localhost',\n",
    "                                  database='patrick', port=3308)\n",
    "    return con\n"
   ]
  },
  {
   "cell_type": "code",
   "execution_count": null,
   "id": "71ddb14f-4fa0-44b3-9396-57fa90621d3a",
   "metadata": {},
   "outputs": [],
   "source": [
    "def insert_data(con, data):\n",
    "    for row_value in data:\n",
    "        add_data = (\n",
    "            \"insert into commsec_course_of_sales (asx_code,date,time,price,volume,value,market,condition_value) \"\n",
    "            \"values (%s, %s, %s, %s, %s, %s, %s, %s) \")\n",
    "        cursor = con.cursor()\n",
    "        cursor.execute(add_data, tuple(row_value))\n",
    "        con.commit()\n"
   ]
  },
  {
   "cell_type": "code",
   "execution_count": null,
   "id": "b1580ec6-7167-47bc-a8b4-192b42a9d5f9",
   "metadata": {},
   "outputs": [],
   "source": [
    "def get_asx_codes():\n",
    "    href = \"https://asx.api.markitdigital.com/asx-research/1.0/companies/directory/file?access_token\" \\\n",
    "           \"=83ff96335c2d45a094df02a206a39ff4\"\n",
    "    filename = \"asx_codes.csv\"\n",
    "\n",
    "    response = requests.get(href)\n",
    "    with open(filename, \"wb\") as f:\n",
    "        f.write(response.content)\n"
   ]
  },
  {
   "cell_type": "code",
   "execution_count": null,
   "id": "1fa329ef-b9f4-40f6-a60d-ad4b155acc7b",
   "metadata": {},
   "outputs": [],
   "source": [
    "def get_data(asx_code):\n",
    "    data = []\n",
    "    try:\n",
    "        # Find the shadow input element\n",
    "        input_element = driver.execute_script(\n",
    "            \"return document.querySelector('commsec-header').shadowRoot.querySelector(\"\n",
    "            \"'search-bar').shadowRoot.querySelector(\"\n",
    "            \"'input')\")\n",
    "        input_element.send_keys(code)\n",
    "        input_element.send_keys(Keys.RETURN)\n",
    "\n",
    "        wait.until(EC.visibility_of_element_located((By.ID, 'overview_cost_of_sales_tab')))\n",
    "        button = driver.find_element_by_id('overview_cost_of_sales_tab');\n",
    "        button.click()\n",
    "        wait.until(\n",
    "            EC.visibility_of_element_located((By.CSS_SELECTOR, 'course-of-sales')))\n",
    "        wait.until(\n",
    "            EC.visibility_of_element_located((By.CSS_SELECTOR, 'tbody>cdk-virtual-scroll-viewport>div>tr')))\n",
    "\n",
    "        table = driver.find_element_by_tag_name('course-of-sales').find_element_by_tag_name('table')\n",
    "        txt = table.find_element_by_tag_name('tbody').text\n",
    "\n",
    "        if txt.lower().strip() != \"no records found.\":\n",
    "            # Get all rows of the table\n",
    "            rows = table.find_element_by_tag_name('tbody').find_elements_by_xpath('.//tr')\n",
    "            # Initialize an empty list to store the data\n",
    "\n",
    "            # Loop through each row of the table\n",
    "            for tr in rows:\n",
    "                # Get all cells of the row\n",
    "                cells = tr.find_elements_by_xpath('.//td')\n",
    "\n",
    "                # Initialize an empty list to store the row data\n",
    "                row_data = [code, date_str]\n",
    "\n",
    "                # Loop through each cell of the row and extract the text\n",
    "                for cell in cells:\n",
    "                    row_data.append(cell.text.replace(',', ''))\n",
    "\n",
    "                # Add the row data to the table data list\n",
    "                data.append(row_data)\n",
    "        return data\n",
    "    except Exception as e:\n",
    "        print(\"Exception in \" + code)\n",
    "        exception_list.append(code)\n",
    "        return data\n",
    "\n"
   ]
  },
  {
   "cell_type": "code",
   "execution_count": null,
   "id": "1aba86c5-03fb-46e8-b162-a85d04265ca9",
   "metadata": {},
   "outputs": [],
   "source": [
    "# download asx codes csv file\n",
    "get_asx_codes()\n"
   ]
  },
  {
   "cell_type": "code",
   "execution_count": null,
   "id": "3ba6f2b5-f3d5-4cae-b106-8593cc16bfa9",
   "metadata": {},
   "outputs": [],
   "source": [
    "# Get the current date\n",
    "today = date.today()\n",
    "\n",
    "# Format the date as \"Day Month Year\"\n",
    "date_str = today.strftime(\"%Y-%m-%d\")"
   ]
  },
  {
   "cell_type": "code",
   "execution_count": null,
   "id": "42e2658f-6be9-42e7-872b-13a93551f098",
   "metadata": {},
   "outputs": [],
   "source": [
    "# Set the options for the headless browser\n",
    "options = Options()\n",
    "#options.headless = True\n",
    "\n",
    "# Create a new instance of the Chrome driver with the headless options\n",
    "# Set up the web driver and navigate to the login page\n",
    "#driver = webdriver.Chrome(\"chromedriver.exe\", options=options)\n",
    "driver = webdriver.Chrome(\"chromedriver.exe\")\n",
    "\n",
    "driver.get(\"https://www2.commsec.com.au/secure/login\")\n",
    "\n",
    "wait = WebDriverWait(driver, 10)\n",
    "element = wait.until(EC.presence_of_element_located((By.ID, 'username')))\n",
    "\n",
    "# Find the username and password input fields, and enter your login details\n",
    "username_field = driver.find_element_by_id(\"username\")\n",
    "password_field = driver.find_element_by_id(\"password\")\n",
    "username_field.send_keys(\"50739011\")\n",
    "password_field.send_keys(\"SGGU!Y78Sssd3d\")\n",
    "\n",
    "# Submit the login form\n",
    "password_field.send_keys(Keys.RETURN)\n",
    "\n",
    "element = wait.until(EC.visibility_of_element_located((By.CSS_SELECTOR, 'commsec-header')))\n",
    "\n",
    "exception_list = []\n",
    "con = connect()\n",
    "with open(\"asx_codes.csv\", newline='') as csvfile:\n",
    "    reader = csv.reader(csvfile, delimiter=',')\n",
    "    next(reader)  # skip the first row\n",
    "    for row in reader:\n",
    "        code = row[0]\n",
    "        print(\"Getting \" + code)\n",
    "        course_of_sales = get_data(code)\n",
    "        insert_data(con, course_of_sales)"
   ]
  },
  {
   "cell_type": "code",
   "execution_count": null,
   "id": "cf69587a-2e47-40a7-a20b-4738a344897f",
   "metadata": {},
   "outputs": [],
   "source": [
    "# try the codes that got exception in previous step\n",
    "lst = copy.deepcopy(exception_list)\n",
    "exception_list = []\n",
    "for code in lst:\n",
    "    course_of_sales = get_data(code)\n",
    "    insert_data(con, course_of_sales)\n",
    "\n",
    "print(\"Unable to scrap CODES :\" + \", \".join(exception_list))\n",
    "# Close the browser\n",
    "driver.quit()"
   ]
  }
 ],
 "metadata": {
  "kernelspec": {
   "display_name": "Python 3 (ipykernel)",
   "language": "python",
   "name": "python3"
  },
  "language_info": {
   "codemirror_mode": {
    "name": "ipython",
    "version": 3
   },
   "file_extension": ".py",
   "mimetype": "text/x-python",
   "name": "python",
   "nbconvert_exporter": "python",
   "pygments_lexer": "ipython3",
   "version": "3.9.12"
  }
 },
 "nbformat": 4,
 "nbformat_minor": 5
}
